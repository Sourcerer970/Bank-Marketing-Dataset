{
 "cells": [
  {
   "cell_type": "code",
   "execution_count": 1,
   "id": "f0bc52da",
   "metadata": {},
   "outputs": [],
   "source": [
    "bank <- read.delim(\"bank.csv\", sep = \";\", header = TRUE)"
   ]
  },
  {
   "cell_type": "code",
   "execution_count": 2,
   "id": "b354bbb6",
   "metadata": {},
   "outputs": [
    {
     "name": "stderr",
     "output_type": "stream",
     "text": [
      "Warning message:\n",
      "\"package 'dplyr' was built under R version 3.6.3\"\n",
      "Attaching package: 'dplyr'\n",
      "\n",
      "The following objects are masked from 'package:stats':\n",
      "\n",
      "    filter, lag\n",
      "\n",
      "The following objects are masked from 'package:base':\n",
      "\n",
      "    intersect, setdiff, setequal, union\n",
      "\n",
      "Warning message:\n",
      "\"package 'ggplot2' was built under R version 3.6.2\"Warning message:\n",
      "\"package 'stringr' was built under R version 3.6.3\"Warning message:\n",
      "\"package 'assertive' was built under R version 3.6.3\"Warning message:\n",
      "\"package 'visdat' was built under R version 3.6.3\""
     ]
    }
   ],
   "source": [
    "library(dplyr)\n",
    "library(ggplot2)\n",
    "library(stringr)\n",
    "library(assertive)\n",
    "library(visdat)"
   ]
  },
  {
   "cell_type": "code",
   "execution_count": 3,
   "id": "9af70c77",
   "metadata": {},
   "outputs": [
    {
     "data": {
      "text/html": [
       "<table>\n",
       "<thead><tr><th scope=col>age</th><th scope=col>job</th><th scope=col>marital</th><th scope=col>education</th><th scope=col>default</th><th scope=col>balance</th><th scope=col>housing</th><th scope=col>loan</th><th scope=col>contact</th><th scope=col>day</th><th scope=col>month</th><th scope=col>duration</th><th scope=col>campaign</th><th scope=col>pdays</th><th scope=col>previous</th><th scope=col>poutcome</th><th scope=col>y</th></tr></thead>\n",
       "<tbody>\n",
       "\t<tr><td>30         </td><td>unemployed </td><td>married    </td><td>primary    </td><td>no         </td><td>1787       </td><td>no         </td><td>no         </td><td>cellular   </td><td>19         </td><td>oct        </td><td> 79        </td><td>1          </td><td> -1        </td><td>0          </td><td>unknown    </td><td>no         </td></tr>\n",
       "\t<tr><td>33         </td><td>services   </td><td>married    </td><td>secondary  </td><td>no         </td><td>4789       </td><td>yes        </td><td>yes        </td><td>cellular   </td><td>11         </td><td>may        </td><td>220        </td><td>1          </td><td>339        </td><td>4          </td><td>failure    </td><td>no         </td></tr>\n",
       "\t<tr><td>35         </td><td>management </td><td>single     </td><td>tertiary   </td><td>no         </td><td>1350       </td><td>yes        </td><td>no         </td><td>cellular   </td><td>16         </td><td>apr        </td><td>185        </td><td>1          </td><td>330        </td><td>1          </td><td>failure    </td><td>no         </td></tr>\n",
       "\t<tr><td>30         </td><td>management </td><td>married    </td><td>tertiary   </td><td>no         </td><td>1476       </td><td>yes        </td><td>yes        </td><td>unknown    </td><td> 3         </td><td>jun        </td><td>199        </td><td>4          </td><td> -1        </td><td>0          </td><td>unknown    </td><td>no         </td></tr>\n",
       "\t<tr><td>59         </td><td>blue-collar</td><td>married    </td><td>secondary  </td><td>no         </td><td>   0       </td><td>yes        </td><td>no         </td><td>unknown    </td><td> 5         </td><td>may        </td><td>226        </td><td>1          </td><td> -1        </td><td>0          </td><td>unknown    </td><td>no         </td></tr>\n",
       "\t<tr><td>35         </td><td>management </td><td>single     </td><td>tertiary   </td><td>no         </td><td> 747       </td><td>no         </td><td>no         </td><td>cellular   </td><td>23         </td><td>feb        </td><td>141        </td><td>2          </td><td>176        </td><td>3          </td><td>failure    </td><td>no         </td></tr>\n",
       "</tbody>\n",
       "</table>\n"
      ],
      "text/latex": [
       "\\begin{tabular}{r|lllllllllllllllll}\n",
       " age & job & marital & education & default & balance & housing & loan & contact & day & month & duration & campaign & pdays & previous & poutcome & y\\\\\n",
       "\\hline\n",
       "\t 30          & unemployed  & married     & primary     & no          & 1787        & no          & no          & cellular    & 19          & oct         &  79         & 1           &  -1         & 0           & unknown     & no         \\\\\n",
       "\t 33          & services    & married     & secondary   & no          & 4789        & yes         & yes         & cellular    & 11          & may         & 220         & 1           & 339         & 4           & failure     & no         \\\\\n",
       "\t 35          & management  & single      & tertiary    & no          & 1350        & yes         & no          & cellular    & 16          & apr         & 185         & 1           & 330         & 1           & failure     & no         \\\\\n",
       "\t 30          & management  & married     & tertiary    & no          & 1476        & yes         & yes         & unknown     &  3          & jun         & 199         & 4           &  -1         & 0           & unknown     & no         \\\\\n",
       "\t 59          & blue-collar & married     & secondary   & no          &    0        & yes         & no          & unknown     &  5          & may         & 226         & 1           &  -1         & 0           & unknown     & no         \\\\\n",
       "\t 35          & management  & single      & tertiary    & no          &  747        & no          & no          & cellular    & 23          & feb         & 141         & 2           & 176         & 3           & failure     & no         \\\\\n",
       "\\end{tabular}\n"
      ],
      "text/markdown": [
       "\n",
       "| age | job | marital | education | default | balance | housing | loan | contact | day | month | duration | campaign | pdays | previous | poutcome | y |\n",
       "|---|---|---|---|---|---|---|---|---|---|---|---|---|---|---|---|---|\n",
       "| 30          | unemployed  | married     | primary     | no          | 1787        | no          | no          | cellular    | 19          | oct         |  79         | 1           |  -1         | 0           | unknown     | no          |\n",
       "| 33          | services    | married     | secondary   | no          | 4789        | yes         | yes         | cellular    | 11          | may         | 220         | 1           | 339         | 4           | failure     | no          |\n",
       "| 35          | management  | single      | tertiary    | no          | 1350        | yes         | no          | cellular    | 16          | apr         | 185         | 1           | 330         | 1           | failure     | no          |\n",
       "| 30          | management  | married     | tertiary    | no          | 1476        | yes         | yes         | unknown     |  3          | jun         | 199         | 4           |  -1         | 0           | unknown     | no          |\n",
       "| 59          | blue-collar | married     | secondary   | no          |    0        | yes         | no          | unknown     |  5          | may         | 226         | 1           |  -1         | 0           | unknown     | no          |\n",
       "| 35          | management  | single      | tertiary    | no          |  747        | no          | no          | cellular    | 23          | feb         | 141         | 2           | 176         | 3           | failure     | no          |\n",
       "\n"
      ],
      "text/plain": [
       "  age job         marital education default balance housing loan contact  day\n",
       "1 30  unemployed  married primary   no      1787    no      no   cellular 19 \n",
       "2 33  services    married secondary no      4789    yes     yes  cellular 11 \n",
       "3 35  management  single  tertiary  no      1350    yes     no   cellular 16 \n",
       "4 30  management  married tertiary  no      1476    yes     yes  unknown   3 \n",
       "5 59  blue-collar married secondary no         0    yes     no   unknown   5 \n",
       "6 35  management  single  tertiary  no       747    no      no   cellular 23 \n",
       "  month duration campaign pdays previous poutcome y \n",
       "1 oct    79      1         -1   0        unknown  no\n",
       "2 may   220      1        339   4        failure  no\n",
       "3 apr   185      1        330   1        failure  no\n",
       "4 jun   199      4         -1   0        unknown  no\n",
       "5 may   226      1         -1   0        unknown  no\n",
       "6 feb   141      2        176   3        failure  no"
      ]
     },
     "metadata": {},
     "output_type": "display_data"
    }
   ],
   "source": [
    "head(bank)"
   ]
  },
  {
   "cell_type": "code",
   "execution_count": 4,
   "id": "85dabb47",
   "metadata": {},
   "outputs": [
    {
     "data": {
      "text/plain": [
       "      age                 job          marital         education    default   \n",
       " Min.   :19.00   management :969   divorced: 528   primary  : 678   no :4445  \n",
       " 1st Qu.:33.00   blue-collar:946   married :2797   secondary:2306   yes:  76  \n",
       " Median :39.00   technician :768   single  :1196   tertiary :1350             \n",
       " Mean   :41.17   admin.     :478                   unknown  : 187             \n",
       " 3rd Qu.:49.00   services   :417                                              \n",
       " Max.   :87.00   retired    :230                                              \n",
       "                 (Other)    :713                                              \n",
       "    balance      housing     loan           contact          day       \n",
       " Min.   :-3313   no :1962   no :3830   cellular :2896   Min.   : 1.00  \n",
       " 1st Qu.:   69   yes:2559   yes: 691   telephone: 301   1st Qu.: 9.00  \n",
       " Median :  444                         unknown  :1324   Median :16.00  \n",
       " Mean   : 1423                                          Mean   :15.92  \n",
       " 3rd Qu.: 1480                                          3rd Qu.:21.00  \n",
       " Max.   :71188                                          Max.   :31.00  \n",
       "                                                                       \n",
       "     month         duration       campaign          pdays       \n",
       " may    :1398   Min.   :   4   Min.   : 1.000   Min.   : -1.00  \n",
       " jul    : 706   1st Qu.: 104   1st Qu.: 1.000   1st Qu.: -1.00  \n",
       " aug    : 633   Median : 185   Median : 2.000   Median : -1.00  \n",
       " jun    : 531   Mean   : 264   Mean   : 2.794   Mean   : 39.77  \n",
       " nov    : 389   3rd Qu.: 329   3rd Qu.: 3.000   3rd Qu.: -1.00  \n",
       " apr    : 293   Max.   :3025   Max.   :50.000   Max.   :871.00  \n",
       " (Other): 571                                                   \n",
       "    previous          poutcome      y       \n",
       " Min.   : 0.0000   failure: 490   no :4000  \n",
       " 1st Qu.: 0.0000   other  : 197   yes: 521  \n",
       " Median : 0.0000   success: 129             \n",
       " Mean   : 0.5426   unknown:3705             \n",
       " 3rd Qu.: 0.0000                            \n",
       " Max.   :25.0000                            \n",
       "                                            "
      ]
     },
     "metadata": {},
     "output_type": "display_data"
    }
   ],
   "source": [
    "summary(bank)"
   ]
  },
  {
   "cell_type": "code",
   "execution_count": 5,
   "id": "c5a5993a",
   "metadata": {},
   "outputs": [
    {
     "data": {
      "text/html": [
       "0"
      ],
      "text/latex": [
       "0"
      ],
      "text/markdown": [
       "0"
      ],
      "text/plain": [
       "[1] 0"
      ]
     },
     "metadata": {},
     "output_type": "display_data"
    }
   ],
   "source": [
    "assert_all_are_not_na(bank)\n",
    "sum(is.na(bank))"
   ]
  },
  {
   "cell_type": "code",
   "execution_count": 6,
   "id": "8e1c58ce",
   "metadata": {},
   "outputs": [
    {
     "data": {
      "image/png": "[encoded data removed]",
      "text/plain": [
       "plot without title"
      ]
     },
     "metadata": {},
     "output_type": "display_data"
    }
   ],
   "source": [
    "vis_miss(bank)"
   ]
  },
  {
   "cell_type": "markdown",
   "id": "c5da3838",
   "metadata": {},
   "source": [
    "Since there is no missing values, there is no need to clean the data. "
   ]
  },
  {
   "cell_type": "markdown",
   "id": "3869a8c8",
   "metadata": {},
   "source": [
    "EDA"
   ]
  },
  {
   "cell_type": "code",
   "execution_count": 7,
   "id": "8b97028c",
   "metadata": {},
   "outputs": [
    {
     "data": {
      "text/html": [
       "<ol class=list-inline>\n",
       "\t<li>'no'</li>\n",
       "\t<li>'yes'</li>\n",
       "</ol>\n"
      ],
      "text/latex": [
       "\\begin{enumerate*}\n",
       "\\item 'no'\n",
       "\\item 'yes'\n",
       "\\end{enumerate*}\n"
      ],
      "text/markdown": [
       "1. 'no'\n",
       "2. 'yes'\n",
       "\n",
       "\n"
      ],
      "text/plain": [
       "[1] \"no\"  \"yes\""
      ]
     },
     "metadata": {},
     "output_type": "display_data"
    },
    {
     "data": {
      "text/html": [
       "<ol class=list-inline>\n",
       "\t<li>'admin.'</li>\n",
       "\t<li>'blue-collar'</li>\n",
       "\t<li>'entrepreneur'</li>\n",
       "\t<li>'housemaid'</li>\n",
       "\t<li>'management'</li>\n",
       "\t<li>'retired'</li>\n",
       "\t<li>'self-employed'</li>\n",
       "\t<li>'services'</li>\n",
       "\t<li>'student'</li>\n",
       "\t<li>'technician'</li>\n",
       "\t<li>'unemployed'</li>\n",
       "\t<li>'unknown'</li>\n",
       "</ol>\n"
      ],
      "text/latex": [
       "\\begin{enumerate*}\n",
       "\\item 'admin.'\n",
       "\\item 'blue-collar'\n",
       "\\item 'entrepreneur'\n",
       "\\item 'housemaid'\n",
       "\\item 'management'\n",
       "\\item 'retired'\n",
       "\\item 'self-employed'\n",
       "\\item 'services'\n",
       "\\item 'student'\n",
       "\\item 'technician'\n",
       "\\item 'unemployed'\n",
       "\\item 'unknown'\n",
       "\\end{enumerate*}\n"
      ],
      "text/markdown": [
       "1. 'admin.'\n",
       "2. 'blue-collar'\n",
       "3. 'entrepreneur'\n",
       "4. 'housemaid'\n",
       "5. 'management'\n",
       "6. 'retired'\n",
       "7. 'self-employed'\n",
       "8. 'services'\n",
       "9. 'student'\n",
       "10. 'technician'\n",
       "11. 'unemployed'\n",
       "12. 'unknown'\n",
       "\n",
       "\n"
      ],
      "text/plain": [
       " [1] \"admin.\"        \"blue-collar\"   \"entrepreneur\"  \"housemaid\"    \n",
       " [5] \"management\"    \"retired\"       \"self-employed\" \"services\"     \n",
       " [9] \"student\"       \"technician\"    \"unemployed\"    \"unknown\"      "
      ]
     },
     "metadata": {},
     "output_type": "display_data"
    },
    {
     "data": {
      "text/html": [
       "<ol class=list-inline>\n",
       "\t<li>'divorced'</li>\n",
       "\t<li>'married'</li>\n",
       "\t<li>'single'</li>\n",
       "</ol>\n"
      ],
      "text/latex": [
       "\\begin{enumerate*}\n",
       "\\item 'divorced'\n",
       "\\item 'married'\n",
       "\\item 'single'\n",
       "\\end{enumerate*}\n"
      ],
      "text/markdown": [
       "1. 'divorced'\n",
       "2. 'married'\n",
       "3. 'single'\n",
       "\n",
       "\n"
      ],
      "text/plain": [
       "[1] \"divorced\" \"married\"  \"single\"  "
      ]
     },
     "metadata": {},
     "output_type": "display_data"
    },
    {
     "data": {
      "text/html": [
       "<ol class=list-inline>\n",
       "\t<li>'primary'</li>\n",
       "\t<li>'secondary'</li>\n",
       "\t<li>'tertiary'</li>\n",
       "\t<li>'unknown'</li>\n",
       "</ol>\n"
      ],
      "text/latex": [
       "\\begin{enumerate*}\n",
       "\\item 'primary'\n",
       "\\item 'secondary'\n",
       "\\item 'tertiary'\n",
       "\\item 'unknown'\n",
       "\\end{enumerate*}\n"
      ],
      "text/markdown": [
       "1. 'primary'\n",
       "2. 'secondary'\n",
       "3. 'tertiary'\n",
       "4. 'unknown'\n",
       "\n",
       "\n"
      ],
      "text/plain": [
       "[1] \"primary\"   \"secondary\" \"tertiary\"  \"unknown\"  "
      ]
     },
     "metadata": {},
     "output_type": "display_data"
    },
    {
     "data": {
      "text/html": [
       "<ol class=list-inline>\n",
       "\t<li>'no'</li>\n",
       "\t<li>'yes'</li>\n",
       "</ol>\n"
      ],
      "text/latex": [
       "\\begin{enumerate*}\n",
       "\\item 'no'\n",
       "\\item 'yes'\n",
       "\\end{enumerate*}\n"
      ],
      "text/markdown": [
       "1. 'no'\n",
       "2. 'yes'\n",
       "\n",
       "\n"
      ],
      "text/plain": [
       "[1] \"no\"  \"yes\""
      ]
     },
     "metadata": {},
     "output_type": "display_data"
    },
    {
     "data": {
      "text/html": [
       "<ol class=list-inline>\n",
       "\t<li>'no'</li>\n",
       "\t<li>'yes'</li>\n",
       "</ol>\n"
      ],
      "text/latex": [
       "\\begin{enumerate*}\n",
       "\\item 'no'\n",
       "\\item 'yes'\n",
       "\\end{enumerate*}\n"
      ],
      "text/markdown": [
       "1. 'no'\n",
       "2. 'yes'\n",
       "\n",
       "\n"
      ],
      "text/plain": [
       "[1] \"no\"  \"yes\""
      ]
     },
     "metadata": {},
     "output_type": "display_data"
    },
    {
     "data": {
      "text/html": [
       "<ol class=list-inline>\n",
       "\t<li>'no'</li>\n",
       "\t<li>'yes'</li>\n",
       "</ol>\n"
      ],
      "text/latex": [
       "\\begin{enumerate*}\n",
       "\\item 'no'\n",
       "\\item 'yes'\n",
       "\\end{enumerate*}\n"
      ],
      "text/markdown": [
       "1. 'no'\n",
       "2. 'yes'\n",
       "\n",
       "\n"
      ],
      "text/plain": [
       "[1] \"no\"  \"yes\""
      ]
     },
     "metadata": {},
     "output_type": "display_data"
    }
   ],
   "source": [
    "levels(bank$y)\n",
    "levels(bank$job)\n",
    "levels(bank$marital)\n",
    "levels(bank$education)\n",
    "levels(bank$default)\n",
    "levels(bank$housing)\n",
    "levels(bank$loan)"
   ]
  },
  {
   "cell_type": "code",
   "execution_count": 8,
   "id": "6de97dd6",
   "metadata": {},
   "outputs": [
    {
     "data": {
      "text/plain": [
       "\n",
       "  no  yes \n",
       "4000  521 "
      ]
     },
     "metadata": {},
     "output_type": "display_data"
    },
    {
     "data": {
      "text/plain": [
       "\n",
       "       admin.   blue-collar  entrepreneur     housemaid    management \n",
       "          478           946           168           112           969 \n",
       "      retired self-employed      services       student    technician \n",
       "          230           183           417            84           768 \n",
       "   unemployed       unknown \n",
       "          128            38 "
      ]
     },
     "metadata": {},
     "output_type": "display_data"
    },
    {
     "data": {
      "text/plain": [
       "\n",
       "divorced  married   single \n",
       "     528     2797     1196 "
      ]
     },
     "metadata": {},
     "output_type": "display_data"
    },
    {
     "data": {
      "text/plain": [
       "\n",
       "  primary secondary  tertiary   unknown \n",
       "      678      2306      1350       187 "
      ]
     },
     "metadata": {},
     "output_type": "display_data"
    },
    {
     "data": {
      "text/plain": [
       "\n",
       "  no  yes \n",
       "4445   76 "
      ]
     },
     "metadata": {},
     "output_type": "display_data"
    },
    {
     "data": {
      "text/plain": [
       "\n",
       "  no  yes \n",
       "1962 2559 "
      ]
     },
     "metadata": {},
     "output_type": "display_data"
    },
    {
     "data": {
      "text/plain": [
       "\n",
       "  no  yes \n",
       "3830  691 "
      ]
     },
     "metadata": {},
     "output_type": "display_data"
    }
   ],
   "source": [
    "table(bank$y)\n",
    "table(bank$job)\n",
    "table(bank$marital)\n",
    "table(bank$education)\n",
    "table(bank$default)\n",
    "table(bank$housing)\n",
    "table(bank$loan)"
   ]
  },
  {
   "cell_type": "code",
   "execution_count": 9,
   "id": "f925c6d7",
   "metadata": {},
   "outputs": [
    {
     "name": "stderr",
     "output_type": "stream",
     "text": [
      "`summarise()` has grouped output by 'age', 'job'. You can override using the `.groups` argument.\n"
     ]
    },
    {
     "data": {
      "text/html": [
       "<table>\n",
       "<thead><tr><th scope=col>age</th><th scope=col>job</th><th scope=col>education</th><th scope=col>mean_balance</th></tr></thead>\n",
       "<tbody>\n",
       "\t<tr><td>19          </td><td>student     </td><td>primary     </td><td> 103.0000   </td></tr>\n",
       "\t<tr><td>19          </td><td>student     </td><td>secondary   </td><td> 302.0000   </td></tr>\n",
       "\t<tr><td>19          </td><td>student     </td><td>unknown     </td><td> 584.5000   </td></tr>\n",
       "\t<tr><td>20          </td><td>student     </td><td>secondary   </td><td> 661.3333   </td></tr>\n",
       "\t<tr><td>21          </td><td>services    </td><td>secondary   </td><td>1132.0000   </td></tr>\n",
       "\t<tr><td>21          </td><td>student     </td><td>secondary   </td><td>2504.7500   </td></tr>\n",
       "\t<tr><td>21          </td><td>student     </td><td>unknown     </td><td> 137.0000   </td></tr>\n",
       "\t<tr><td>22          </td><td>admin.      </td><td>secondary   </td><td>4111.0000   </td></tr>\n",
       "\t<tr><td>22          </td><td>student     </td><td>primary     </td><td>3472.0000   </td></tr>\n",
       "\t<tr><td>22          </td><td>student     </td><td>secondary   </td><td>1367.0000   </td></tr>\n",
       "\t<tr><td>22          </td><td>student     </td><td>tertiary    </td><td> 926.0000   </td></tr>\n",
       "\t<tr><td>22          </td><td>student     </td><td>unknown     </td><td> 298.0000   </td></tr>\n",
       "\t<tr><td>22          </td><td>technician  </td><td>secondary   </td><td> 333.0000   </td></tr>\n",
       "\t<tr><td>23          </td><td>admin.      </td><td>secondary   </td><td> 297.0000   </td></tr>\n",
       "\t<tr><td>23          </td><td>blue-collar </td><td>primary     </td><td>6137.3333   </td></tr>\n",
       "\t<tr><td>23          </td><td>blue-collar </td><td>unknown     </td><td> 817.0000   </td></tr>\n",
       "\t<tr><td>23          </td><td>entrepreneur</td><td>primary     </td><td>   4.0000   </td></tr>\n",
       "\t<tr><td>23          </td><td>management  </td><td>tertiary    </td><td> 736.0000   </td></tr>\n",
       "\t<tr><td>23          </td><td>services    </td><td>secondary   </td><td> 243.6667   </td></tr>\n",
       "\t<tr><td>23          </td><td>services    </td><td>tertiary    </td><td> 363.0000   </td></tr>\n",
       "\t<tr><td>23          </td><td>student     </td><td>secondary   </td><td>4877.7500   </td></tr>\n",
       "\t<tr><td>23          </td><td>student     </td><td>tertiary    </td><td>-230.0000   </td></tr>\n",
       "\t<tr><td>23          </td><td>technician  </td><td>secondary   </td><td> 146.0000   </td></tr>\n",
       "\t<tr><td>23          </td><td>technician  </td><td>tertiary    </td><td>1129.0000   </td></tr>\n",
       "\t<tr><td>24          </td><td>admin.      </td><td>secondary   </td><td> 612.5000   </td></tr>\n",
       "\t<tr><td>24          </td><td>blue-collar </td><td>primary     </td><td> 111.0000   </td></tr>\n",
       "\t<tr><td>24          </td><td>blue-collar </td><td>secondary   </td><td> 151.5000   </td></tr>\n",
       "\t<tr><td>24          </td><td>blue-collar </td><td>unknown     </td><td> 431.0000   </td></tr>\n",
       "\t<tr><td>24          </td><td>management  </td><td>tertiary    </td><td> 172.0000   </td></tr>\n",
       "\t<tr><td>24          </td><td>retired     </td><td>secondary   </td><td> 366.0000   </td></tr>\n",
       "\t<tr><td>...</td><td>...</td><td>...</td><td>...</td></tr>\n",
       "\t<tr><td>72         </td><td>retired    </td><td>primary    </td><td>  779.5000 </td></tr>\n",
       "\t<tr><td>72         </td><td>retired    </td><td>secondary  </td><td> 4130.0000 </td></tr>\n",
       "\t<tr><td>73         </td><td>retired    </td><td>primary    </td><td>  654.2500 </td></tr>\n",
       "\t<tr><td>73         </td><td>retired    </td><td>secondary  </td><td>   19.0000 </td></tr>\n",
       "\t<tr><td>73         </td><td>retired    </td><td>unknown    </td><td>  519.0000 </td></tr>\n",
       "\t<tr><td>74         </td><td>retired    </td><td>secondary  </td><td> 1978.3333 </td></tr>\n",
       "\t<tr><td>75         </td><td>blue-collar</td><td>secondary  </td><td> 6053.0000 </td></tr>\n",
       "\t<tr><td>75         </td><td>retired    </td><td>primary    </td><td>  852.0000 </td></tr>\n",
       "\t<tr><td>75         </td><td>retired    </td><td>secondary  </td><td>10521.3333 </td></tr>\n",
       "\t<tr><td>75         </td><td>retired    </td><td>tertiary   </td><td> 3810.0000 </td></tr>\n",
       "\t<tr><td>76         </td><td>retired    </td><td>primary    </td><td> 1338.0000 </td></tr>\n",
       "\t<tr><td>77         </td><td>retired    </td><td>primary    </td><td>  680.0000 </td></tr>\n",
       "\t<tr><td>77         </td><td>retired    </td><td>secondary  </td><td>  610.0000 </td></tr>\n",
       "\t<tr><td>77         </td><td>retired    </td><td>tertiary   </td><td> 4153.6667 </td></tr>\n",
       "\t<tr><td>78         </td><td>housemaid  </td><td>secondary  </td><td>  499.0000 </td></tr>\n",
       "\t<tr><td>78         </td><td>retired    </td><td>primary    </td><td>  229.0000 </td></tr>\n",
       "\t<tr><td>78         </td><td>retired    </td><td>tertiary   </td><td>  226.0000 </td></tr>\n",
       "\t<tr><td>79         </td><td>retired    </td><td>primary    </td><td> 4492.5000 </td></tr>\n",
       "\t<tr><td>79         </td><td>retired    </td><td>secondary  </td><td> 4738.0000 </td></tr>\n",
       "\t<tr><td>79         </td><td>retired    </td><td>unknown    </td><td> 2628.0000 </td></tr>\n",
       "\t<tr><td>80         </td><td>housemaid  </td><td>primary    </td><td>    0.0000 </td></tr>\n",
       "\t<tr><td>80         </td><td>management </td><td>primary    </td><td> 6483.0000 </td></tr>\n",
       "\t<tr><td>80         </td><td>retired    </td><td>primary    </td><td> 1548.0000 </td></tr>\n",
       "\t<tr><td>80         </td><td>retired    </td><td>secondary  </td><td> 5690.0000 </td></tr>\n",
       "\t<tr><td>81         </td><td>retired    </td><td>secondary  </td><td>    1.0000 </td></tr>\n",
       "\t<tr><td>83         </td><td>retired    </td><td>primary    </td><td>  507.3333 </td></tr>\n",
       "\t<tr><td>83         </td><td>retired    </td><td>secondary  </td><td>    0.0000 </td></tr>\n",
       "\t<tr><td>84         </td><td>retired    </td><td>primary    </td><td>  639.0000 </td></tr>\n",
       "\t<tr><td>86         </td><td>retired    </td><td>secondary  </td><td> 1503.0000 </td></tr>\n",
       "\t<tr><td>87         </td><td>retired    </td><td>primary    </td><td>  230.0000 </td></tr>\n",
       "</tbody>\n",
       "</table>\n"
      ],
      "text/latex": [
       "\\begin{tabular}{r|llll}\n",
       " age & job & education & mean\\_balance\\\\\n",
       "\\hline\n",
       "\t 19           & student      & primary      &  103.0000   \\\\\n",
       "\t 19           & student      & secondary    &  302.0000   \\\\\n",
       "\t 19           & student      & unknown      &  584.5000   \\\\\n",
       "\t 20           & student      & secondary    &  661.3333   \\\\\n",
       "\t 21           & services     & secondary    & 1132.0000   \\\\\n",
       "\t 21           & student      & secondary    & 2504.7500   \\\\\n",
       "\t 21           & student      & unknown      &  137.0000   \\\\\n",
       "\t 22           & admin.       & secondary    & 4111.0000   \\\\\n",
       "\t 22           & student      & primary      & 3472.0000   \\\\\n",
       "\t 22           & student      & secondary    & 1367.0000   \\\\\n",
       "\t 22           & student      & tertiary     &  926.0000   \\\\\n",
       "\t 22           & student      & unknown      &  298.0000   \\\\\n",
       "\t 22           & technician   & secondary    &  333.0000   \\\\\n",
       "\t 23           & admin.       & secondary    &  297.0000   \\\\\n",
       "\t 23           & blue-collar  & primary      & 6137.3333   \\\\\n",
       "\t 23           & blue-collar  & unknown      &  817.0000   \\\\\n",
       "\t 23           & entrepreneur & primary      &    4.0000   \\\\\n",
       "\t 23           & management   & tertiary     &  736.0000   \\\\\n",
       "\t 23           & services     & secondary    &  243.6667   \\\\\n",
       "\t 23           & services     & tertiary     &  363.0000   \\\\\n",
       "\t 23           & student      & secondary    & 4877.7500   \\\\\n",
       "\t 23           & student      & tertiary     & -230.0000   \\\\\n",
       "\t 23           & technician   & secondary    &  146.0000   \\\\\n",
       "\t 23           & technician   & tertiary     & 1129.0000   \\\\\n",
       "\t 24           & admin.       & secondary    &  612.5000   \\\\\n",
       "\t 24           & blue-collar  & primary      &  111.0000   \\\\\n",
       "\t 24           & blue-collar  & secondary    &  151.5000   \\\\\n",
       "\t 24           & blue-collar  & unknown      &  431.0000   \\\\\n",
       "\t 24           & management   & tertiary     &  172.0000   \\\\\n",
       "\t 24           & retired      & secondary    &  366.0000   \\\\\n",
       "\t ... & ... & ... & ...\\\\\n",
       "\t 72          & retired     & primary     &   779.5000 \\\\\n",
       "\t 72          & retired     & secondary   &  4130.0000 \\\\\n",
       "\t 73          & retired     & primary     &   654.2500 \\\\\n",
       "\t 73          & retired     & secondary   &    19.0000 \\\\\n",
       "\t 73          & retired     & unknown     &   519.0000 \\\\\n",
       "\t 74          & retired     & secondary   &  1978.3333 \\\\\n",
       "\t 75          & blue-collar & secondary   &  6053.0000 \\\\\n",
       "\t 75          & retired     & primary     &   852.0000 \\\\\n",
       "\t 75          & retired     & secondary   & 10521.3333 \\\\\n",
       "\t 75          & retired     & tertiary    &  3810.0000 \\\\\n",
       "\t 76          & retired     & primary     &  1338.0000 \\\\\n",
       "\t 77          & retired     & primary     &   680.0000 \\\\\n",
       "\t 77          & retired     & secondary   &   610.0000 \\\\\n",
       "\t 77          & retired     & tertiary    &  4153.6667 \\\\\n",
       "\t 78          & housemaid   & secondary   &   499.0000 \\\\\n",
       "\t 78          & retired     & primary     &   229.0000 \\\\\n",
       "\t 78          & retired     & tertiary    &   226.0000 \\\\\n",
       "\t 79          & retired     & primary     &  4492.5000 \\\\\n",
       "\t 79          & retired     & secondary   &  4738.0000 \\\\\n",
       "\t 79          & retired     & unknown     &  2628.0000 \\\\\n",
       "\t 80          & housemaid   & primary     &     0.0000 \\\\\n",
       "\t 80          & management  & primary     &  6483.0000 \\\\\n",
       "\t 80          & retired     & primary     &  1548.0000 \\\\\n",
       "\t 80          & retired     & secondary   &  5690.0000 \\\\\n",
       "\t 81          & retired     & secondary   &     1.0000 \\\\\n",
       "\t 83          & retired     & primary     &   507.3333 \\\\\n",
       "\t 83          & retired     & secondary   &     0.0000 \\\\\n",
       "\t 84          & retired     & primary     &   639.0000 \\\\\n",
       "\t 86          & retired     & secondary   &  1503.0000 \\\\\n",
       "\t 87          & retired     & primary     &   230.0000 \\\\\n",
       "\\end{tabular}\n"
      ],
      "text/markdown": [
       "\n",
       "| age | job | education | mean_balance |\n",
       "|---|---|---|---|\n",
       "| 19           | student      | primary      |  103.0000    |\n",
       "| 19           | student      | secondary    |  302.0000    |\n",
       "| 19           | student      | unknown      |  584.5000    |\n",
       "| 20           | student      | secondary    |  661.3333    |\n",
       "| 21           | services     | secondary    | 1132.0000    |\n",
       "| 21           | student      | secondary    | 2504.7500    |\n",
       "| 21           | student      | unknown      |  137.0000    |\n",
       "| 22           | admin.       | secondary    | 4111.0000    |\n",
       "| 22           | student      | primary      | 3472.0000    |\n",
       "| 22           | student      | secondary    | 1367.0000    |\n",
       "| 22           | student      | tertiary     |  926.0000    |\n",
       "| 22           | student      | unknown      |  298.0000    |\n",
       "| 22           | technician   | secondary    |  333.0000    |\n",
       "| 23           | admin.       | secondary    |  297.0000    |\n",
       "| 23           | blue-collar  | primary      | 6137.3333    |\n",
       "| 23           | blue-collar  | unknown      |  817.0000    |\n",
       "| 23           | entrepreneur | primary      |    4.0000    |\n",
       "| 23           | management   | tertiary     |  736.0000    |\n",
       "| 23           | services     | secondary    |  243.6667    |\n",
       "| 23           | services     | tertiary     |  363.0000    |\n",
       "| 23           | student      | secondary    | 4877.7500    |\n",
       "| 23           | student      | tertiary     | -230.0000    |\n",
       "| 23           | technician   | secondary    |  146.0000    |\n",
       "| 23           | technician   | tertiary     | 1129.0000    |\n",
       "| 24           | admin.       | secondary    |  612.5000    |\n",
       "| 24           | blue-collar  | primary      |  111.0000    |\n",
       "| 24           | blue-collar  | secondary    |  151.5000    |\n",
       "| 24           | blue-collar  | unknown      |  431.0000    |\n",
       "| 24           | management   | tertiary     |  172.0000    |\n",
       "| 24           | retired      | secondary    |  366.0000    |\n",
       "| ... | ... | ... | ... |\n",
       "| 72          | retired     | primary     |   779.5000  |\n",
       "| 72          | retired     | secondary   |  4130.0000  |\n",
       "| 73          | retired     | primary     |   654.2500  |\n",
       "| 73          | retired     | secondary   |    19.0000  |\n",
       "| 73          | retired     | unknown     |   519.0000  |\n",
       "| 74          | retired     | secondary   |  1978.3333  |\n",
       "| 75          | blue-collar | secondary   |  6053.0000  |\n",
       "| 75          | retired     | primary     |   852.0000  |\n",
       "| 75          | retired     | secondary   | 10521.3333  |\n",
       "| 75          | retired     | tertiary    |  3810.0000  |\n",
       "| 76          | retired     | primary     |  1338.0000  |\n",
       "| 77          | retired     | primary     |   680.0000  |\n",
       "| 77          | retired     | secondary   |   610.0000  |\n",
       "| 77          | retired     | tertiary    |  4153.6667  |\n",
       "| 78          | housemaid   | secondary   |   499.0000  |\n",
       "| 78          | retired     | primary     |   229.0000  |\n",
       "| 78          | retired     | tertiary    |   226.0000  |\n",
       "| 79          | retired     | primary     |  4492.5000  |\n",
       "| 79          | retired     | secondary   |  4738.0000  |\n",
       "| 79          | retired     | unknown     |  2628.0000  |\n",
       "| 80          | housemaid   | primary     |     0.0000  |\n",
       "| 80          | management  | primary     |  6483.0000  |\n",
       "| 80          | retired     | primary     |  1548.0000  |\n",
       "| 80          | retired     | secondary   |  5690.0000  |\n",
       "| 81          | retired     | secondary   |     1.0000  |\n",
       "| 83          | retired     | primary     |   507.3333  |\n",
       "| 83          | retired     | secondary   |     0.0000  |\n",
       "| 84          | retired     | primary     |   639.0000  |\n",
       "| 86          | retired     | secondary   |  1503.0000  |\n",
       "| 87          | retired     | primary     |   230.0000  |\n",
       "\n"
      ],
      "text/plain": [
       "    age job          education mean_balance\n",
       "1   19  student      primary    103.0000   \n",
       "2   19  student      secondary  302.0000   \n",
       "3   19  student      unknown    584.5000   \n",
       "4   20  student      secondary  661.3333   \n",
       "5   21  services     secondary 1132.0000   \n",
       "6   21  student      secondary 2504.7500   \n",
       "7   21  student      unknown    137.0000   \n",
       "8   22  admin.       secondary 4111.0000   \n",
       "9   22  student      primary   3472.0000   \n",
       "10  22  student      secondary 1367.0000   \n",
       "11  22  student      tertiary   926.0000   \n",
       "12  22  student      unknown    298.0000   \n",
       "13  22  technician   secondary  333.0000   \n",
       "14  23  admin.       secondary  297.0000   \n",
       "15  23  blue-collar  primary   6137.3333   \n",
       "16  23  blue-collar  unknown    817.0000   \n",
       "17  23  entrepreneur primary      4.0000   \n",
       "18  23  management   tertiary   736.0000   \n",
       "19  23  services     secondary  243.6667   \n",
       "20  23  services     tertiary   363.0000   \n",
       "21  23  student      secondary 4877.7500   \n",
       "22  23  student      tertiary  -230.0000   \n",
       "23  23  technician   secondary  146.0000   \n",
       "24  23  technician   tertiary  1129.0000   \n",
       "25  24  admin.       secondary  612.5000   \n",
       "26  24  blue-collar  primary    111.0000   \n",
       "27  24  blue-collar  secondary  151.5000   \n",
       "28  24  blue-collar  unknown    431.0000   \n",
       "29  24  management   tertiary   172.0000   \n",
       "30  24  retired      secondary  366.0000   \n",
       "... ... ...          ...       ...         \n",
       "946 72  retired      primary     779.5000  \n",
       "947 72  retired      secondary  4130.0000  \n",
       "948 73  retired      primary     654.2500  \n",
       "949 73  retired      secondary    19.0000  \n",
       "950 73  retired      unknown     519.0000  \n",
       "951 74  retired      secondary  1978.3333  \n",
       "952 75  blue-collar  secondary  6053.0000  \n",
       "953 75  retired      primary     852.0000  \n",
       "954 75  retired      secondary 10521.3333  \n",
       "955 75  retired      tertiary   3810.0000  \n",
       "956 76  retired      primary    1338.0000  \n",
       "957 77  retired      primary     680.0000  \n",
       "958 77  retired      secondary   610.0000  \n",
       "959 77  retired      tertiary   4153.6667  \n",
       "960 78  housemaid    secondary   499.0000  \n",
       "961 78  retired      primary     229.0000  \n",
       "962 78  retired      tertiary    226.0000  \n",
       "963 79  retired      primary    4492.5000  \n",
       "964 79  retired      secondary  4738.0000  \n",
       "965 79  retired      unknown    2628.0000  \n",
       "966 80  housemaid    primary       0.0000  \n",
       "967 80  management   primary    6483.0000  \n",
       "968 80  retired      primary    1548.0000  \n",
       "969 80  retired      secondary  5690.0000  \n",
       "970 81  retired      secondary     1.0000  \n",
       "971 83  retired      primary     507.3333  \n",
       "972 83  retired      secondary     0.0000  \n",
       "973 84  retired      primary     639.0000  \n",
       "974 86  retired      secondary  1503.0000  \n",
       "975 87  retired      primary     230.0000  "
      ]
     },
     "metadata": {},
     "output_type": "display_data"
    }
   ],
   "source": [
    "bank %>% group_by(age, job, education) %>% \n",
    "summarise(mean_balance = mean(balance))"
   ]
  },
  {
   "cell_type": "code",
   "execution_count": 10,
   "id": "c29ea4b3",
   "metadata": {},
   "outputs": [
    {
     "data": {
      "image/png": "[encoded data removed]",
      "text/plain": [
       "plot without title"
      ]
     },
     "metadata": {},
     "output_type": "display_data"
    }
   ],
   "source": [
    "ggplot(bank, aes(x = job)) + geom_bar()"
   ]
  },
  {
   "cell_type": "code",
   "execution_count": 11,
   "id": "c4bd3e1e",
   "metadata": {
    "scrolled": true
   },
   "outputs": [
    {
     "data": {
      "image/png": "[encoded data removed]",
      "text/plain": [
       "plot without title"
      ]
     },
     "metadata": {},
     "output_type": "display_data"
    }
   ],
   "source": [
    "ggplot(bank, aes(x = education)) + geom_bar()"
   ]
  },
  {
   "cell_type": "code",
   "execution_count": 12,
   "id": "4bf46157",
   "metadata": {},
   "outputs": [
    {
     "data": {
      "image/png": "[encoded data removed]",
      "text/plain": [
       "plot without title"
      ]
     },
     "metadata": {},
     "output_type": "display_data"
    }
   ],
   "source": [
    "ggplot(bank, aes(x = housing, y = age, color = marital)) + geom_boxplot()    "
   ]
  },
  {
   "cell_type": "code",
   "execution_count": 13,
   "id": "b99e1c05",
   "metadata": {},
   "outputs": [
    {
     "data": {
      "image/png": "[encoded data removed]",
      "text/plain": [
       "plot without title"
      ]
     },
     "metadata": {},
     "output_type": "display_data"
    }
   ],
   "source": [
    "ggplot(bank, aes(x = education, y = age, color = loan)) + geom_boxplot()"
   ]
  },
  {
   "cell_type": "code",
   "execution_count": 14,
   "id": "fb558e1e",
   "metadata": {},
   "outputs": [
    {
     "data": {
      "image/png": "[encoded data removed]",
      "text/plain": [
       "plot without title"
      ]
     },
     "metadata": {},
     "output_type": "display_data"
    }
   ],
   "source": [
    "ggplot(bank, aes(x = job, y = age, color = marital)) + geom_boxplot()"
   ]
  },
  {
   "cell_type": "code",
   "execution_count": 15,
   "id": "3a1ef80f",
   "metadata": {},
   "outputs": [
    {
     "data": {
      "image/png": "[encoded data removed]",
      "text/plain": [
       "plot without title"
      ]
     },
     "metadata": {},
     "output_type": "display_data"
    }
   ],
   "source": [
    "ggplot(bank, aes(x = default, y = age)) + geom_boxplot()"
   ]
  },
  {
   "cell_type": "code",
   "execution_count": 16,
   "id": "176e16d7",
   "metadata": {},
   "outputs": [
    {
     "data": {
      "image/png": "[encoded data removed]",
      "text/plain": [
       "plot without title"
      ]
     },
     "metadata": {},
     "output_type": "display_data"
    }
   ],
   "source": [
    "ggplot(bank, aes(x = default, y = age, color = education)) + geom_boxplot()"
   ]
  },
  {
   "cell_type": "code",
   "execution_count": 17,
   "id": "38098e7c",
   "metadata": {},
   "outputs": [
    {
     "data": {
      "image/png": "[encoded data removed]",
      "text/plain": [
       "plot without title"
      ]
     },
     "metadata": {},
     "output_type": "display_data"
    }
   ],
   "source": [
    "ggplot(bank, aes(x = default, y = age, color = marital)) + geom_boxplot()"
   ]
  },
  {
   "cell_type": "code",
   "execution_count": 18,
   "id": "817d9d9c",
   "metadata": {},
   "outputs": [
    {
     "data": {
      "image/png": "[encoded data removed]",
      "text/plain": [
       "plot without title"
      ]
     },
     "metadata": {},
     "output_type": "display_data"
    }
   ],
   "source": [
    "ggplot(bank, aes(x = housing, y = age)) + geom_boxplot()"
   ]
  },
  {
   "cell_type": "code",
   "execution_count": 19,
   "id": "a0661276",
   "metadata": {},
   "outputs": [
    {
     "data": {
      "image/png": "[encoded data removed]",
      "text/plain": [
       "plot without title"
      ]
     },
     "metadata": {},
     "output_type": "display_data"
    }
   ],
   "source": [
    "ggplot(bank, aes(x = housing, y = age, color = education)) + geom_boxplot()"
   ]
  },
  {
   "cell_type": "code",
   "execution_count": 20,
   "id": "b43a523a",
   "metadata": {},
   "outputs": [
    {
     "data": {
      "image/png": "[encoded data removed]",
      "text/plain": [
       "plot without title"
      ]
     },
     "metadata": {},
     "output_type": "display_data"
    }
   ],
   "source": [
    "ggplot(bank, aes(x = housing, y = age, color = marital)) + geom_boxplot()"
   ]
  },
  {
   "cell_type": "code",
   "execution_count": 21,
   "id": "72e78879",
   "metadata": {},
   "outputs": [
    {
     "data": {
      "image/png": "[encoded data removed]",
      "text/plain": [
       "plot without title"
      ]
     },
     "metadata": {},
     "output_type": "display_data"
    }
   ],
   "source": [
    "ggplot(bank, aes(x = housing, y = age, color = default)) + geom_boxplot()"
   ]
  },
  {
   "cell_type": "code",
   "execution_count": 22,
   "id": "b8286f8c",
   "metadata": {},
   "outputs": [
    {
     "data": {
      "image/png": "[encoded data removed]",
      "text/plain": [
       "plot without title"
      ]
     },
     "metadata": {},
     "output_type": "display_data"
    }
   ],
   "source": [
    "ggplot(bank, aes(x = loan, y = age)) + geom_boxplot()"
   ]
  },
  {
   "cell_type": "code",
   "execution_count": 23,
   "id": "e64329a3",
   "metadata": {},
   "outputs": [
    {
     "data": {
      "image/png": "[encoded data removed]",
      "text/plain": [
       "plot without title"
      ]
     },
     "metadata": {},
     "output_type": "display_data"
    }
   ],
   "source": [
    "ggplot(bank, aes(x = loan, y = age, color = education)) + geom_boxplot()"
   ]
  },
  {
   "cell_type": "code",
   "execution_count": 24,
   "id": "12f2a9df",
   "metadata": {},
   "outputs": [
    {
     "data": {
      "image/png": "[encoded data removed]",
      "text/plain": [
       "plot without title"
      ]
     },
     "metadata": {},
     "output_type": "display_data"
    }
   ],
   "source": [
    "ggplot(bank, aes(x = loan, y = age, color = marital)) + geom_boxplot()"
   ]
  },
  {
   "cell_type": "code",
   "execution_count": 25,
   "id": "a774a89f",
   "metadata": {},
   "outputs": [
    {
     "data": {
      "image/png": "[encoded data removed]",
      "text/plain": [
       "plot without title"
      ]
     },
     "metadata": {},
     "output_type": "display_data"
    }
   ],
   "source": [
    "ggplot(bank, aes(x = loan, y = age, color = default)) + geom_boxplot()"
   ]
  },
  {
   "cell_type": "raw",
   "id": "4bc593e8",
   "metadata": {},
   "source": [
    "Train-Test Split"
   ]
  },
  {
   "cell_type": "code",
   "execution_count": 26,
   "id": "ae86db54",
   "metadata": {},
   "outputs": [
    {
     "name": "stderr",
     "output_type": "stream",
     "text": [
      "Installing package into 'C:/Users/msh52/OneDrive/Documents/R/win-library/3.6'\n",
      "(as 'lib' is unspecified)\n"
     ]
    },
    {
     "name": "stdout",
     "output_type": "stream",
     "text": [
      "package 'caTools' successfully unpacked and MD5 sums checked\n"
     ]
    },
    {
     "name": "stderr",
     "output_type": "stream",
     "text": [
      "Warning message:\n",
      "\"cannot remove prior installation of package 'caTools'\"Warning message in file.copy(savedcopy, lib, recursive = TRUE):\n",
      "\"problem copying C:\\Users\\msh52\\OneDrive\\Documents\\R\\win-library\\3.6\\00LOCK\\caTools\\libs\\x64\\caTools.dll to C:\\Users\\msh52\\OneDrive\\Documents\\R\\win-library\\3.6\\caTools\\libs\\x64\\caTools.dll: Permission denied\"Warning message:\n",
      "\"restored 'caTools'\""
     ]
    },
    {
     "name": "stdout",
     "output_type": "stream",
     "text": [
      "\n",
      "The downloaded binary packages are in\n",
      "\tC:\\Users\\msh52\\AppData\\Local\\Temp\\RtmpOq4bvj\\downloaded_packages\n"
     ]
    },
    {
     "name": "stderr",
     "output_type": "stream",
     "text": [
      "Warning message:\n",
      "\"package 'caTools' was built under R version 3.6.3\""
     ]
    }
   ],
   "source": [
    "install.packages('caTools')\n",
    "library(caTools)"
   ]
  },
  {
   "cell_type": "code",
   "execution_count": 27,
   "id": "5e783360",
   "metadata": {},
   "outputs": [],
   "source": [
    "set.seed(101)\n",
    "sample <- sample.split(bank$y, SplitRatio = 0.70)"
   ]
  },
  {
   "cell_type": "raw",
   "id": "a922c452",
   "metadata": {},
   "source": [
    "Training Data"
   ]
  },
  {
   "cell_type": "code",
   "execution_count": 28,
   "id": "d3bbc3b0",
   "metadata": {},
   "outputs": [],
   "source": [
    "train <- subset(bank, sample == TRUE)"
   ]
  },
  {
   "cell_type": "markdown",
   "id": "bf1a3d15",
   "metadata": {},
   "source": [
    "Testing Data"
   ]
  },
  {
   "cell_type": "code",
   "execution_count": 29,
   "id": "0eef751d",
   "metadata": {},
   "outputs": [],
   "source": [
    "test <- subset(bank, sample == FALSE)"
   ]
  },
  {
   "cell_type": "markdown",
   "id": "bccc4d67",
   "metadata": {},
   "source": [
    "Training the Model"
   ]
  },
  {
   "cell_type": "code",
   "execution_count": 30,
   "id": "287a755e",
   "metadata": {},
   "outputs": [
    {
     "data": {
      "text/plain": [
       "\n",
       "Call:\n",
       "glm(formula = as.factor(y) ~ ., family = binomial(logit), data = train)\n",
       "\n",
       "Deviance Residuals: \n",
       "    Min       1Q   Median       3Q      Max  \n",
       "-4.2138  -0.3758  -0.2477  -0.1444   3.1236  \n",
       "\n",
       "Coefficients:\n",
       "                     Estimate Std. Error z value Pr(>|z|)    \n",
       "(Intercept)        -3.135e+00  7.476e-01  -4.194 2.74e-05 ***\n",
       "age                 2.565e-04  8.696e-03   0.029 0.976471    \n",
       "jobblue-collar     -3.146e-01  2.953e-01  -1.065 0.286713    \n",
       "jobentrepreneur    -4.056e-01  4.784e-01  -0.848 0.396530    \n",
       "jobhousemaid       -1.055e-01  4.847e-01  -0.218 0.827724    \n",
       "jobmanagement      -6.561e-02  2.935e-01  -0.223 0.823147    \n",
       "jobretired          6.555e-01  3.742e-01   1.752 0.079857 .  \n",
       "jobself-employed   -2.784e-01  4.487e-01  -0.620 0.534961    \n",
       "jobservices        -1.458e-01  3.261e-01  -0.447 0.654802    \n",
       "jobstudent          3.349e-01  4.654e-01   0.720 0.471809    \n",
       "jobtechnician      -3.012e-01  2.852e-01  -1.056 0.290907    \n",
       "jobunemployed      -6.137e-01  5.218e-01  -1.176 0.239605    \n",
       "jobunknown         -7.013e-01  9.853e-01  -0.712 0.476624    \n",
       "maritalmarried     -4.160e-01  2.162e-01  -1.924 0.054375 .  \n",
       "maritalsingle      -8.364e-02  2.482e-01  -0.337 0.736094    \n",
       "educationsecondary -1.981e-02  2.401e-01  -0.083 0.934245    \n",
       "educationtertiary   2.842e-01  2.836e-01   1.002 0.316149    \n",
       "educationunknown   -3.573e-01  4.380e-01  -0.816 0.414639    \n",
       "defaultyes          7.121e-01  4.812e-01   1.480 0.138946    \n",
       "balance            -1.520e-05  2.113e-05  -0.719 0.471972    \n",
       "housingyes         -1.087e-01  1.659e-01  -0.655 0.512572    \n",
       "loanyes            -6.597e-01  2.394e-01  -2.756 0.005859 ** \n",
       "contacttelephone   -3.217e-01  2.944e-01  -1.093 0.274510    \n",
       "contactunknown     -1.675e+00  2.769e-01  -6.048 1.47e-09 ***\n",
       "day                 2.255e-02  9.911e-03   2.275 0.022910 *  \n",
       "monthaug            1.237e-01  3.100e-01   0.399 0.689952    \n",
       "monthdec           -4.648e-01  8.242e-01  -0.564 0.572769    \n",
       "monthfeb            3.583e-01  3.749e-01   0.956 0.339225    \n",
       "monthjan           -8.033e-01  4.568e-01  -1.759 0.078650 .  \n",
       "monthjul           -7.668e-01  3.192e-01  -2.402 0.016294 *  \n",
       "monthjun            1.101e+00  3.734e-01   2.947 0.003206 ** \n",
       "monthmar            1.695e+00  4.804e-01   3.529 0.000417 ***\n",
       "monthmay           -2.516e-01  2.972e-01  -0.846 0.397281    \n",
       "monthnov           -6.664e-01  3.496e-01  -1.906 0.056671 .  \n",
       "monthoct            1.574e+00  4.178e-01   3.768 0.000165 ***\n",
       "monthsep            2.343e-01  5.434e-01   0.431 0.666361    \n",
       "duration            4.412e-03  2.480e-04  17.789  < 2e-16 ***\n",
       "campaign           -7.208e-02  3.273e-02  -2.202 0.027641 *  \n",
       "pdays              -6.808e-04  1.207e-03  -0.564 0.572802    \n",
       "previous            2.582e-03  4.981e-02   0.052 0.958660    \n",
       "poutcomeother       8.585e-01  3.276e-01   2.620 0.008786 ** \n",
       "poutcomesuccess     2.731e+00  3.444e-01   7.930 2.19e-15 ***\n",
       "poutcomeunknown    -4.863e-02  3.996e-01  -0.122 0.903131    \n",
       "---\n",
       "Signif. codes:  0 '***' 0.001 '**' 0.01 '*' 0.05 '.' 0.1 ' ' 1\n",
       "\n",
       "(Dispersion parameter for binomial family taken to be 1)\n",
       "\n",
       "    Null deviance: 2263  on 3164  degrees of freedom\n",
       "Residual deviance: 1479  on 3122  degrees of freedom\n",
       "AIC: 1565\n",
       "\n",
       "Number of Fisher Scoring iterations: 6\n"
      ]
     },
     "metadata": {},
     "output_type": "display_data"
    }
   ],
   "source": [
    "model <- glm(as.factor(y) ~ ., family = binomial(logit), data = train)\n",
    "summary(model)"
   ]
  },
  {
   "cell_type": "code",
   "execution_count": 31,
   "id": "e0751de5",
   "metadata": {},
   "outputs": [
    {
     "data": {
      "text/plain": [
       "     \n",
       "      FALSE TRUE\n",
       "  no   1174   26\n",
       "  yes   111   45"
      ]
     },
     "metadata": {},
     "output_type": "display_data"
    }
   ],
   "source": [
    "test$predicted.y <- predict(model, newdata = test, type = \"response\")\n",
    "table(test$y, test$predicted.y > 0.5)"
   ]
  },
  {
   "cell_type": "markdown",
   "id": "36d87e6f",
   "metadata": {},
   "source": [
    "Accuracy"
   ]
  },
  {
   "cell_type": "code",
   "execution_count": 32,
   "id": "369a9617",
   "metadata": {},
   "outputs": [
    {
     "data": {
      "text/html": [
       "0.898967551622419"
      ],
      "text/latex": [
       "0.898967551622419"
      ],
      "text/markdown": [
       "0.898967551622419"
      ],
      "text/plain": [
       "[1] 0.8989676"
      ]
     },
     "metadata": {},
     "output_type": "display_data"
    }
   ],
   "source": [
    "(45+1174)/(1174+26+111+45)"
   ]
  },
  {
   "cell_type": "markdown",
   "id": "da8a6a14",
   "metadata": {},
   "source": [
    "Therefore, this logistic regression model is 90% accurate."
   ]
  },
  {
   "cell_type": "raw",
   "id": "1ba02a82",
   "metadata": {},
   "source": [
    "Precision"
   ]
  },
  {
   "cell_type": "code",
   "execution_count": 33,
   "id": "cbbdc037",
   "metadata": {},
   "outputs": [
    {
     "data": {
      "text/html": [
       "0.288461538461538"
      ],
      "text/latex": [
       "0.288461538461538"
      ],
      "text/markdown": [
       "0.288461538461538"
      ],
      "text/plain": [
       "[1] 0.2884615"
      ]
     },
     "metadata": {},
     "output_type": "display_data"
    }
   ],
   "source": [
    "(45)/(45+111)"
   ]
  },
  {
   "cell_type": "markdown",
   "id": "fdbbab8a",
   "metadata": {},
   "source": [
    "Therefore, this model is 29% precise."
   ]
  },
  {
   "cell_type": "markdown",
   "id": "82663d3a",
   "metadata": {},
   "source": [
    "Recall"
   ]
  },
  {
   "cell_type": "code",
   "execution_count": 34,
   "id": "db199cd3",
   "metadata": {},
   "outputs": [
    {
     "data": {
      "text/html": [
       "0.633802816901408"
      ],
      "text/latex": [
       "0.633802816901408"
      ],
      "text/markdown": [
       "0.633802816901408"
      ],
      "text/plain": [
       "[1] 0.6338028"
      ]
     },
     "metadata": {},
     "output_type": "display_data"
    }
   ],
   "source": [
    "(45)/(45+26)"
   ]
  },
  {
   "cell_type": "markdown",
   "id": "1287ed0e",
   "metadata": {},
   "source": [
    "Therefore, this model is 63% recall. "
   ]
  }
 ],
 "metadata": {
  "kernelspec": {
   "display_name": "R",
   "language": "R",
   "name": "ir"
  },
  "language_info": {
   "codemirror_mode": "r",
   "file_extension": ".r",
   "mimetype": "text/x-r-source",
   "name": "R",
   "pygments_lexer": "r",
   "version": "3.6.1"
  }
 },
 "nbformat": 4,
 "nbformat_minor": 5
}
